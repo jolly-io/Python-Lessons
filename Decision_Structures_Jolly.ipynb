{
  "nbformat": 4,
  "nbformat_minor": 0,
  "metadata": {
    "colab": {
      "provenance": [],
      "include_colab_link": true
    },
    "kernelspec": {
      "name": "python3",
      "display_name": "Python 3"
    },
    "language_info": {
      "name": "python"
    }
  },
  "cells": [
    {
      "cell_type": "markdown",
      "metadata": {
        "id": "view-in-github",
        "colab_type": "text"
      },
      "source": [
        "<a href=\"https://colab.research.google.com/github/jolly-io/Python-Lessons/blob/main/Decision_Structures_Jolly.ipynb\" target=\"_parent\"><img src=\"https://colab.research.google.com/assets/colab-badge.svg\" alt=\"Open In Colab\"/></a>"
      ]
    },
    {
      "cell_type": "markdown",
      "source": [
        "#Assignment - Calorie Calculator\n",
        "\n",
        "## Overview\n",
        "This excercise is good practice with numerical calculations, simple input/output, and decision statements.\n",
        "\n",
        "\n",
        "## Program Objective:\n",
        "In this exercise, I write a program the calculates the Daily Caloric needs for weight lose diet. According to everydayhealth.com they recommend this daily caloric formula for a weight loss diet: **`BMR + Activity Level - 500 calories`**.\n",
        "\n",
        "## Calories Calculator\n",
        "The Harris-Benedict equation estimates the number of calories your body needs to maintain your weight if you do no exercise. This is called your basal metabolic rate or BMR.\n",
        "\n",
        "The Calories needed for a woman to maintain her weight is:\n",
        " - **`BMR = 655 + (4.3 * weight in pounds) + (4.7 * height in inches) - (4.7 * age in years)`**\n",
        "\n",
        "The Calories needed for a man to maintain his weight is:\n",
        "- **`BMR = 66 + (6.3 * weight in pounds) + (12.9 * height in inches) - (6.8 * age in years)`**\n",
        "\n",
        "Next, the total daily caloric requirement is calculated by multiplying your BMR by your level of activity:\n",
        "- If the person is inactive (rarely exercise), then increase the calculated BMR 20%.\n",
        "- If the person is somewhat active, then increase the calculated BMR by 30%\n",
        "- If the person is active, then increase the calculated BMR by 40%\n",
        "- If the person is highly active then increase the calculated BMR by 50%\n",
        "\n",
        "\n",
        "\n",
        "\n",
        "<br>\n",
        "\n",
        "## Program Specification:\n",
        "The program allows the user to input their weight in pounds, height in inches, and age in years. Ask the user to input the string “M” if the user is a man and “W” if the user is a woman.\n",
        "\n",
        "I use only the male formula to calculate calories if “M” is entered and use only the women formula to calculate calories if “W” is entered.\n",
        "Ask the user if he or she is:\n",
        "\n",
        "<ol type=\"A\">\n",
        "  <li>Inactive</li>\n",
        "  <li>Somewhat active (exercise occasionally)</li>\n",
        "  <li>Active (exercise 3-4 days per week)</li>\n",
        "  <li>Highly active (exercise every day)</li>\n",
        "</ol>\n",
        "\n",
        "- If the user answers *“Inactive”* then increase the calculated BMR by 20 percent.\n",
        "- If the user answers *“Somewhat active”* then increase the calculated BMR by 30 percent.\n",
        "- If the user answers *“Active”* then increase the calculated BMR by 40 percent.\n",
        "- Finally, if the user answers *“Highly active”* then increase the calculated BMR by 50 percent.\n",
        "- The program should then output the calculated daily Calories intake for this person in order to lose one pound per week by subtracting 500 calories from the calculated BMR.\n",
        "\n",
        "\n",
        "## Input Errors\n",
        "- If the user enters an age either < 1 or > 100, instantly end the program with an error message.\n",
        "- If the user enters a height < 10 or > 100, instantly end the program with an error message.\n",
        "- If the user enters a weight < 10 or > 500, instantly end the program with an error message.\n",
        "- You can assume that the user does not type some non-numeric value. You don't have to test for this kind of non-numeric error.\n",
        "- If the user does not enter ‘M' for male calculation or 'W' for female calculation, instantly end the program with an error message.\n",
        "- If the user does not enter A, B, C, or D when prompted, instantly end the program with an error message. These limits must be defined as symbolic constants, which should be used throughout the program.\n"
      ],
      "metadata": {
        "id": "sfALzosZD5Q4"
      }
    },
    {
      "cell_type": "markdown",
      "source": [
        "## Rules\n",
        "\n",
        "- Implement your code in the main function and then call and excute the main function.\n",
        "- Use class constants as appropriate to represent important fixed data values in your program, such as max and min age, height, weight.\n",
        "- Notice that all real numbers output by the program are printed with no more than 1 digits after the decimal point. To achieve this, I use the F-String function.\n"
      ],
      "metadata": {
        "id": "TqswQCTFOsYK"
      }
    },
    {
      "cell_type": "markdown",
      "source": [],
      "metadata": {
        "id": "nWAAYHD2Pn_t"
      }
    },
    {
      "cell_type": "code",
      "source": [
        "\"\"\"\n",
        "\n",
        "Calorie Calculator program developed by Jolly.\n",
        "\n",
        "Description: This program calculates the daily caloric needs for a weight loss diet.\n",
        "\"\"\"\n",
        "\n",
        "def main():\n",
        "\n",
        "    MIN_AGE = 1\n",
        "    MAX_AGE = 100\n",
        "\n",
        "    MIN_HEIGHT = 10\n",
        "    MAX_HEIGHT = 100\n",
        "\n",
        "    MIN_WEIGHT = 10\n",
        "    MAX_WEIGHT = 500\n",
        "\n",
        "    #asks the user for their basic bio data and checks for error entry.\n",
        "    print(\"Calorie Calculator - Daily Caloric Needs for a Weight Loss Diet.\")\n",
        "\n",
        "    age = int(input(\"What is your age in years? \"))\n",
        "    if age < MIN_AGE or age > MAX_AGE:\n",
        "        raise Exception('Program Exit! You entered incorrect age, age should be between 1 to 100')\n",
        "    height = int(input(\"What is your height in inches? \"))\n",
        "    if height < MIN_HEIGHT or height > MAX_HEIGHT:\n",
        "        raise Exception('Program Exit! You entered incorrect height, height should be between 10 to 100')\n",
        "    weight = int(input(\"What is your weight in pounds? \"))\n",
        "    if weight < MIN_WEIGHT or weight > MAX_WEIGHT:\n",
        "        raise Exception('Program Exit! You entered incorrect weight, weight should be between 10 to 500')\n",
        "    gender = input(\"Enter 'M' for Male calculation or 'W' for female calcuation: \")\n",
        "    if gender.upper() != \"M\" and gender.upper() != \"W\":\n",
        "        raise Exception('Program Exit! entry is invalid for gender')\n",
        "\n",
        "    #calculates the BMR for either male or female\n",
        "    if gender == \"M\":\n",
        "        BMR = 66 + (6.3 * weight) + (12.9 * height) - (6.8 * age)\n",
        "    else:\n",
        "        BMR = 655 + (4.3 * weight) + (4.7 * height) - (4.7 * age)\n",
        "\n",
        "    #increment the BMR by the specified percentages per activity level\n",
        "    activity_level = input(\"Are you:\\n\" +\n",
        "                              \"A.Inactive (rarely exercise)\\n\" +\n",
        "                              \"B.Somewhat active (exercise occasionally))\\n\" +\n",
        "                              \"C.Active (exercise 3-4 days per week)\\n\" +\n",
        "                              \"D.Highly active (exercise everyday)\\n\" +\n",
        "                              \"Enter A,B,C or D:  \")\n",
        "\n",
        "    if activity_level.upper() != \"A\" and activity_level.upper() != \"B\" and activity_level.upper() != \"C\" and activity_level.upper() != \"D\":\n",
        "        raise Exception('Program Exit! activity level should be A, B, C or D. Try again')\n",
        "\n",
        "    if activity_level == \"A\":\n",
        "        BMR *= 1.2\n",
        "    if activity_level == \"B\":\n",
        "        BMR *= 1.3\n",
        "    if activity_level == \"C\":\n",
        "        BMR *= 1.4\n",
        "    if activity_level == \"D\":\n",
        "        BMR *= 1.5\n",
        "\n",
        "    #calculates and display the result\n",
        "    calculation_result = BMR - 500\n",
        "\n",
        "    if gender.upper() == \"M\":\n",
        "        print(f\"Calculation Result: \\nA male with those measurements is suggested to intake about {calculation_result:.1f} kcal/day in order to loose approximately 1 lb/week!\\n\" +\n",
        "                        \"****Thank You For Using This Program!****\")\n",
        "    else:\n",
        "        print(f\"Calculation Result: \\nA female with those measurements is suggested to intake about {calculation_result:.1f} kcal/day in order to loose approximately 1 lb/week!\\n\" +\n",
        "                                                                \"****Thank You For Using This Program!****\")\n",
        "\n",
        "    #calls the main() function to execute the program\n",
        "\n",
        "if __name__ == \"__main__\":\n",
        "        main()\n",
        "\n",
        ""
      ],
      "metadata": {
        "id": "QatVN384M1Z_",
        "colab": {
          "base_uri": "https://localhost:8080/"
        },
        "outputId": "b0d85cff-38d3-4c1b-9879-c5538456675c"
      },
      "execution_count": null,
      "outputs": [
        {
          "output_type": "stream",
          "name": "stdout",
          "text": [
            "Calorie Calculator - Daily Caloric Needs for a Weight Loss Diet.\n",
            "What is your age in years? 30\n",
            "What is your height in inches? 76\n",
            "What is your weight in pounds? 220\n",
            "Enter 'M' for Male calculation or 'W' for female calcuation: M\n",
            "Are you:\n",
            "A.Inactive (rarely exercise)\n",
            "B.Somewhat active (exercise occasionally))\n",
            "C.Active (exercise 3-4 days per week)\n",
            "D.Highly active (exercise everyday)\n",
            "Enter A,B,C or D:  B\n",
            "Calculation Result: \n",
            "A male with those measurements is suggested to intake about 2396.9 kcal/day in order to loose approximately 1 lb/week!\n",
            "****Thank You For Using This Program!****\n"
          ]
        }
      ]
    },
    {
      "cell_type": "markdown",
      "source": [
        "#### Sample output below"
      ],
      "metadata": {
        "id": "m6cIuwRkrPPF"
      }
    },
    {
      "cell_type": "markdown",
      "source": [
        "![image.png](data:image/png;base64,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)"
      ],
      "metadata": {
        "id": "s6CNZCC3h9aE"
      }
    },
    {
      "cell_type": "code",
      "source": [],
      "metadata": {
        "id": "YnMa2rvqQrED"
      },
      "execution_count": null,
      "outputs": []
    }
  ]
}