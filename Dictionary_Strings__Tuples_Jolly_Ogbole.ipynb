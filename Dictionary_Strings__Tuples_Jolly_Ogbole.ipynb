{
  "nbformat": 4,
  "nbformat_minor": 0,
  "metadata": {
    "colab": {
      "provenance": [],
      "include_colab_link": true
    },
    "kernelspec": {
      "name": "python3",
      "display_name": "Python 3"
    },
    "language_info": {
      "name": "python"
    }
  },
  "cells": [
    {
      "cell_type": "markdown",
      "metadata": {
        "id": "view-in-github",
        "colab_type": "text"
      },
      "source": [
        "<a href=\"https://colab.research.google.com/github/jolly-io/Python-Lessons/blob/main/Dictionary_Strings__Tuples_Jolly_Ogbole.ipynb\" target=\"_parent\"><img src=\"https://colab.research.google.com/assets/colab-badge.svg\" alt=\"Open In Colab\"/></a>"
      ]
    },
    {
      "cell_type": "code",
      "source": [
        "'''\n",
        "The following programs is created by Jolly ogbole on October 8. 2022.\n",
        "\n",
        "Each individual program implements specific task(s) as specified below.\n",
        "\n",
        "'''"
      ],
      "metadata": {
        "id": "AahYuAEDs7fs"
      },
      "execution_count": null,
      "outputs": []
    },
    {
      "cell_type": "markdown",
      "source": [
        "## **1) From the below list print only the word 'python' using indexing**"
      ],
      "metadata": {
        "id": "6G0w2IvPfFyz"
      }
    },
    {
      "cell_type": "code",
      "source": [
        "list1 = [1,2,[3,4],[5,[100,200,['python']],23,11],1,7]"
      ],
      "metadata": {
        "id": "EfizMcP4fJVA"
      },
      "execution_count": null,
      "outputs": []
    },
    {
      "cell_type": "code",
      "source": [
        "# Solution here\n",
        "list1[3][1][2][0]"
      ],
      "metadata": {
        "colab": {
          "base_uri": "https://localhost:8080/",
          "height": 35
        },
        "id": "1XBwZed7fLj8",
        "outputId": "03d7eca4-fdde-4c04-b526-4a921832703e"
      },
      "execution_count": null,
      "outputs": [
        {
          "output_type": "execute_result",
          "data": {
            "text/plain": [
              "'python'"
            ],
            "application/vnd.google.colaboratory.intrinsic+json": {
              "type": "string"
            }
          },
          "metadata": {},
          "execution_count": 37
        }
      ]
    },
    {
      "cell_type": "markdown",
      "source": [
        "## **2) Ask the user to input a list of integers seperated by a space and perform the below steps**"
      ],
      "metadata": {
        "id": "8T2szLXwfO7K"
      }
    },
    {
      "cell_type": "code",
      "execution_count": null,
      "metadata": {
        "colab": {
          "base_uri": "https://localhost:8080/"
        },
        "id": "ioMaerZEcQF5",
        "outputId": "4c316cab-e269-4b36-9c9b-9045371a0d96"
      },
      "outputs": [
        {
          "name": "stdout",
          "output_type": "stream",
          "text": [
            "1 3 5 6 7 19 -17\n"
          ]
        }
      ],
      "source": [
        "# Step 0: Input integers from user into list called nums\n",
        "nums = [int(num) for num in input().split()]"
      ]
    },
    {
      "cell_type": "code",
      "source": [
        "# Step 1: Find minimum and maximum values\n",
        "print(f'Minimum: {min(nums)}')\n",
        "print(f'Maximum: {max(nums)}')"
      ],
      "metadata": {
        "colab": {
          "base_uri": "https://localhost:8080/"
        },
        "id": "wCNlnWvxcScS",
        "outputId": "32f02992-6374-45b3-e0e7-96a9721c1cd5"
      },
      "execution_count": null,
      "outputs": [
        {
          "output_type": "stream",
          "name": "stdout",
          "text": [
            "Minimum: -17\n",
            "Maximum: 19\n"
          ]
        }
      ]
    },
    {
      "cell_type": "code",
      "source": [
        "#Step 2. creating a custom function to return the mean\n",
        "def mean(nums):\n",
        "    total = 0\n",
        "    for num in nums:\n",
        "        total += num\n",
        "    mean = total/len(nums)\n",
        "    return mean\n",
        "\n",
        "print(f'Mean: {mean(nums):.1f}')"
      ],
      "metadata": {
        "colab": {
          "base_uri": "https://localhost:8080/"
        },
        "id": "z5Pg6U5MCEl8",
        "outputId": "3062033b-bfdf-4319-bc14-f456a59c14d9"
      },
      "execution_count": null,
      "outputs": [
        {
          "output_type": "stream",
          "name": "stdout",
          "text": [
            "Mean: 3.4\n"
          ]
        }
      ]
    },
    {
      "cell_type": "code",
      "source": [
        "# Step 3: First Sort list elements in ascending order then find and output median\n",
        "# Do not use any packages of functions, create your own function to calc median of a list\n",
        "\n",
        "L = nums\n",
        "def median(L):\n",
        "    L.sort()\n",
        "    if len(L)%2 != 0:\n",
        "        median = L[int(len(L)/2)]\n",
        "    else:\n",
        "        median = L[(int(len(L)/2))- 1] + L[int(len(L)/2)]\n",
        "        median = median/2\n",
        "    return median\n",
        "\n",
        "print(f'Median: {median(L):.1f}')"
      ],
      "metadata": {
        "colab": {
          "base_uri": "https://localhost:8080/"
        },
        "id": "QVxGjFVfAn_d",
        "outputId": "6e7461dd-4a00-4dcb-b487-1e6694270652"
      },
      "execution_count": null,
      "outputs": [
        {
          "output_type": "stream",
          "name": "stdout",
          "text": [
            "Median: 5.0\n"
          ]
        }
      ]
    },
    {
      "cell_type": "markdown",
      "metadata": {
        "id": "pJszw8XMcr8F"
      },
      "source": [
        "### **3) Make a dictionary of frequency of the words from the below string, select words that have 4 or more letters in it .**\n",
        "- Key of the dictionary should be word and value should be the number of times that word has appeared in the paragraph, sort the dictionary in descending order and print the results in a formatted table.\n",
        "\n",
        "```Python\n",
        "text = '''The goal is to turn data into information and information into insight .\n",
        "You can have data without information but you cannot have information without data .'''\n",
        "\n",
        "```\n"
      ]
    },
    {
      "cell_type": "code",
      "source": [
        "text = '''The goal is to turn data into information and information into insight .\n",
        "You can have data without information but you cannot have information without data .'''\n",
        "\n",
        "# Transforming our string into a list\n",
        "[word for word in text.split()]\n",
        "\n",
        "# Using list comprehension for conditional of words equal to and greater than 4 characters\n",
        "word1 = [word for word in text.split() if len(word) >= 4]\n",
        "word1\n",
        "\n",
        "#creating an empty dictionary\n",
        "text_dict = {\n",
        "\n",
        "}\n",
        "\n",
        "# Traversing and checking for, then adding keys and values into the empty dictionary.\n",
        "# Keys=Unique text, Values=Frequency of Unique text\n",
        "for word in word1:\n",
        "    text_dict.setdefault(word, word1.count(word))\n",
        "text_dict\n",
        "\n",
        "# Sorting the values in the dictionary in descending order\n",
        "sorted_dict = sorted(text_dict.items(), key=lambda item: item[1], reverse=True)\n",
        "\n",
        "# Formating the output\n",
        "print(f'{\"Word:\":14} {\"Frequency:\":4}')\n",
        "print('-' * 24)\n",
        "\n",
        "for i in sorted_dict:\n",
        "   print(f'{i[0]:16} {i[1]:4}')"
      ],
      "metadata": {
        "colab": {
          "base_uri": "https://localhost:8080/"
        },
        "id": "TAj3SRZfwQAd",
        "outputId": "ea5b368f-8a11-4998-d90e-24e82f060176"
      },
      "execution_count": null,
      "outputs": [
        {
          "output_type": "stream",
          "name": "stdout",
          "text": [
            "Word:          Frequency:\n",
            "------------------------\n",
            "information         4\n",
            "data                3\n",
            "into                2\n",
            "have                2\n",
            "without             2\n",
            "goal                1\n",
            "turn                1\n",
            "insight             1\n",
            "cannot              1\n"
          ]
        }
      ]
    },
    {
      "cell_type": "code",
      "metadata": {
        "colab": {
          "base_uri": "https://localhost:8080/"
        },
        "id": "3zqxulpVcQK_",
        "outputId": "d4c6b239-447d-4764-fe36-bb58949b7ad7"
      },
      "source": [
        "text = '''The goal is to turn data into information and information into insight .\n",
        "You can have data without information but you cannot have information without data.'''\n",
        "#note 'data' has frequency of 3 appearances\n"
      ],
      "execution_count": null,
      "outputs": [
        {
          "output_type": "stream",
          "name": "stdout",
          "text": [
            "   Word:      Frequency: \n",
            "------------------------\n",
            "information      4      \n",
            "    data         2      \n",
            "    into         2      \n",
            "    have         2      \n",
            "  without        2      \n",
            "    goal         1      \n",
            "    turn         1      \n",
            "  insight        1      \n",
            "   cannot        1      \n",
            "   data.         1      \n"
          ]
        }
      ]
    },
    {
      "cell_type": "markdown",
      "source": [
        "### **4)** Write a program that let the user enter a course number, then it should display the course’s room number, instructor, and meeting time.\n",
        "- Creates a dictionary **rooms** containing course numbers and the room numbers of the rooms where the courses meet. The dictionary should have the following key-value pairs:\n",
        "\n",
        "<center>\n",
        "\n",
        "\n",
        "|Course Number (key)\t|Room Number (value)\n",
        "| ----------- | ----------- |\n",
        "|CS101\t|3004|\n",
        "|CS102\t|4501|\n",
        "|CS103\t|6755|\n",
        "|NT110\t|1244|\n",
        "|CM241\t|1411|\n",
        "\n",
        "</center>\n",
        "\n",
        "- The program should also create a dictionary **instructors** containing course numbers and the names of the instructors that teach each course. The dictionary should have the following key-value pairs:\n",
        "\n",
        "<center>\n",
        "\n",
        "|Course Number (key)\t|Instructor (value)\n",
        "| ----------- | ----------- |\n",
        "|CS101\t|Haynes\n",
        "|CS102\t|Alvarado\n",
        "|CS103\t|Rich\n",
        "|NT110\t|Burke\n",
        "|CM241\t|Lee\n",
        "\n",
        "</center>\n",
        "\n",
        "- The program should also create a dictionary **times** containing course numbers and the meeting times of each course. The dictionary should have the following key-value pairs:\n",
        "\n",
        "<center>\n",
        "\n",
        "|Course Number (key)\t|Meeting Time (value)\n",
        "| ----------- | ----------- |\n",
        "|CS101\t|8:00 a.m.\n",
        "|CS102\t|9:00 a.m.\n",
        "|CS103\t|10:00 a.m.\n",
        "|NT110\t|11:00 a.m.\n",
        "|CM241\t|1:00 p.m.\n",
        "\n",
        "</center>\n"
      ],
      "metadata": {
        "id": "M-gxdnIYl4VH"
      }
    },
    {
      "cell_type": "code",
      "source": [
        "# create a compressed dictionary for all three values, since keys are similar. nesteded, efficient and streamlined approach\n",
        "\n",
        "\n",
        "x = input(\"Enter a course number: \")\n",
        "\n",
        "course_dict = {\n",
        "\n",
        "    'CS101' :\t[3004, 'Haynes',   '8:00 a.m.'],\n",
        "    'CS102' :\t[4501, 'Alvarado', '9:00 a.m.'],\n",
        "    'CS103' :\t[6755, 'Rich',     '10:00 a.m.'],\n",
        "    'NT110' :\t[1244, 'Burke',    '11:00 a.m.'],\n",
        "    'CM241' :\t[1411, 'Lee',      '1:00 p.m.']\n",
        "}\n",
        "\n",
        "\n",
        "print(f'The details for course {x} are: ')\n",
        "print(f'Room: {course_dict.get(x)[0]}')\n",
        "print(f'Instructor: {course_dict.get(x)[1]}')\n",
        "print(f'Time: {course_dict.get(x)[2]}')"
      ],
      "metadata": {
        "colab": {
          "base_uri": "https://localhost:8080/"
        },
        "id": "2FSKWhQ2uEea",
        "outputId": "77fcbbc6-71f6-4466-bc31-f7ae91d47132"
      },
      "execution_count": null,
      "outputs": [
        {
          "output_type": "stream",
          "name": "stdout",
          "text": [
            "Enter a course number: CS101\n",
            "The details for course CS101 are: \n",
            "Room: 3004\n",
            "Instructor: Haynes\n",
            "Time: 8:00 a.m.\n"
          ]
        }
      ]
    },
    {
      "cell_type": "code",
      "source": [],
      "metadata": {
        "colab": {
          "base_uri": "https://localhost:8080/"
        },
        "id": "LF7pz-uvlY73",
        "outputId": "991bb521-4684-441e-f488-a72e33fb9c58"
      },
      "execution_count": null,
      "outputs": [
        {
          "output_type": "stream",
          "name": "stdout",
          "text": [
            "Enter a course number: CS101\n",
            "The details for course CS101 are:\n",
            "Room: 3004\n",
            "Instructor: Haynes\n",
            "Time: 8:00 am\n"
          ]
        }
      ]
    },
    {
      "cell_type": "markdown",
      "source": [],
      "metadata": {
        "id": "fYSBW781_P5C"
      }
    },
    {
      "cell_type": "markdown",
      "metadata": {
        "id": "WexGbtoZUUc6"
      },
      "source": [
        "### **5)** Use the below `product_inventory` string to create three lists for `product_lists`, `price_list`, and `count_list`. Each line of the string represent three fields separated by comma : *__quantity, product_name, price__*:\n",
        "\n",
        "*Hint: Use for loop to traverse the lines and assign each seperated field to the proper list.*"
      ]
    },
    {
      "cell_type": "code",
      "source": [
        "product_inventory = \"\"\"\n",
        "30, apple, 0.60\n",
        "40, banana, 0.20\n",
        "20, grapefruit, 0.75\n",
        "100, grapes, 1.99\n",
        "49, kiwi, 0.50\n",
        "30, lemon, 0.20\n",
        "30, lime, 0.25\n",
        "50, mango, 1.50\n",
        "40, papaya, 2.95\n",
        "50, pineapple, 5.50\n",
        "60, blueberries, 2.99\n",
        "10, blackberries, 2.50\n",
        "50, peach, 0.50\n",
        "40, plum, 0.33\n",
        "40, clementine, 0.25\n",
        "20, cantaloupe, 3.25\n",
        "40, pear, 1.25\n",
        "50, quince, 0.45\n",
        "40, orange, 0.60\n",
        "\"\"\""
      ],
      "metadata": {
        "id": "9XGclK5kmy78"
      },
      "execution_count": null,
      "outputs": []
    },
    {
      "cell_type": "code",
      "metadata": {
        "id": "tkE1O5JXbT-M"
      },
      "source": [
        "# Intialize the three lists and use for loop to populate the lists\n",
        "s = product_inventory.strip(\"\\n\").split(\"\\n\")\n",
        "product_list = []\n",
        "price_list = []\n",
        "count_list = []\n",
        "\n",
        "for row in s:\n",
        "    s_row = row.replace(\",\", \"\").split(\" \")\n",
        "    product_list.append(s_row[1])\n",
        "    price_list.append(s_row[2])\n",
        "    count_list.append(s_row[0])\n",
        "\n",
        "\n",
        "#product_list"
      ],
      "execution_count": null,
      "outputs": []
    },
    {
      "cell_type": "markdown",
      "metadata": {
        "id": "DIJo8CkRUUc7"
      },
      "source": [
        "#### a. Store the product names in a list `product_list`  then sort and display the list.\n"
      ]
    },
    {
      "cell_type": "code",
      "source": [
        "# Solution here\n",
        "product_list = sorted(product_list)\n",
        "product_list"
      ],
      "metadata": {
        "id": "tLwuqcKtdP18",
        "colab": {
          "base_uri": "https://localhost:8080/"
        },
        "outputId": "083085b5-2203-4054-a231-fa41451fcca8"
      },
      "execution_count": null,
      "outputs": [
        {
          "output_type": "execute_result",
          "data": {
            "text/plain": [
              "['apple',\n",
              " 'banana',\n",
              " 'blackberries',\n",
              " 'blueberries',\n",
              " 'cantaloupe',\n",
              " 'clementine',\n",
              " 'grapefruit',\n",
              " 'grapes',\n",
              " 'kiwi',\n",
              " 'lemon',\n",
              " 'lime',\n",
              " 'mango',\n",
              " 'orange',\n",
              " 'papaya',\n",
              " 'peach',\n",
              " 'pear',\n",
              " 'pineapple',\n",
              " 'plum',\n",
              " 'quince']"
            ]
          },
          "metadata": {},
          "execution_count": 22
        }
      ]
    },
    {
      "cell_type": "code",
      "metadata": {
        "id": "lV6NgPowUUc7",
        "colab": {
          "base_uri": "https://localhost:8080/"
        },
        "outputId": "040b0239-5a27-4b70-b2df-4dc9579c5475"
      },
      "source": [],
      "execution_count": null,
      "outputs": [
        {
          "output_type": "execute_result",
          "data": {
            "text/plain": [
              "[' apple',\n",
              " ' banana',\n",
              " ' blackberries',\n",
              " ' blueberries',\n",
              " ' cantaloupe',\n",
              " ' clementine',\n",
              " ' grapefruit',\n",
              " ' grapes',\n",
              " ' kiwi',\n",
              " ' lemon',\n",
              " ' lime',\n",
              " ' mango',\n",
              " ' orange',\n",
              " ' papaya',\n",
              " ' peach',\n",
              " ' pear',\n",
              " ' pineapple',\n",
              " ' plum',\n",
              " ' quince']"
            ]
          },
          "metadata": {},
          "execution_count": 28
        }
      ]
    },
    {
      "cell_type": "markdown",
      "metadata": {
        "id": "xt5exLYmUUc7"
      },
      "source": [
        "#### b. Display the min, max and average of the cost for all the products."
      ]
    },
    {
      "cell_type": "code",
      "metadata": {
        "id": "DxMRcElHUUc8",
        "colab": {
          "base_uri": "https://localhost:8080/"
        },
        "outputId": "0f3261f2-e00c-4cc4-a190-a25e784f96d4"
      },
      "source": [
        "# Solution here for min\n",
        "min(price_list)\n",
        "\n",
        "print(f\"Min price:  {float(min(price_list)):.1f}\")"
      ],
      "execution_count": null,
      "outputs": [
        {
          "output_type": "stream",
          "name": "stdout",
          "text": [
            "Min price:  0.2\n"
          ]
        }
      ]
    },
    {
      "cell_type": "code",
      "metadata": {
        "colab": {
          "base_uri": "https://localhost:8080/"
        },
        "id": "ggeBJIA3bfvl",
        "outputId": "7b4bcd55-3bfb-4886-f654-fc683ca4aeda"
      },
      "source": [
        "# Solution here for max\n",
        "max(price_list)\n",
        "\n",
        "print(f\"Max price:  {float(max(price_list)):.1f}\")"
      ],
      "execution_count": null,
      "outputs": [
        {
          "output_type": "stream",
          "name": "stdout",
          "text": [
            "Max price:  5.5\n"
          ]
        }
      ]
    },
    {
      "cell_type": "code",
      "metadata": {
        "colab": {
          "base_uri": "https://localhost:8080/"
        },
        "id": "A-gnZr_obfla",
        "outputId": "086efbf7-afaa-4c88-ac85-538ad0831552"
      },
      "source": [
        "# Solution here for average\n",
        "\n",
        "total = 0\n",
        "for item in price_list:\n",
        "    total += float(item)\n",
        "    mean = total/len(price_list)\n",
        "\n",
        "\n",
        "print(f'Average price: {mean:.1f}')"
      ],
      "execution_count": null,
      "outputs": [
        {
          "output_type": "stream",
          "name": "stdout",
          "text": [
            "Average price: 1.4\n"
          ]
        }
      ]
    },
    {
      "cell_type": "markdown",
      "metadata": {
        "id": "k3jvzHQeUUc8"
      },
      "source": [
        "#### c. Display the total count of the products quantities."
      ]
    },
    {
      "cell_type": "code",
      "metadata": {
        "id": "IvcFIpN3UUc8",
        "colab": {
          "base_uri": "https://localhost:8080/"
        },
        "outputId": "2a16ced5-b7ee-40bc-ddac-d7f7ea36dcbc"
      },
      "source": [
        "# Solution here\n",
        "\n",
        "total_count = 0\n",
        "for count in count_list:\n",
        "    total_count += int(count)\n",
        "\n",
        "print(f'Total count of product is:  {total_count}')"
      ],
      "execution_count": null,
      "outputs": [
        {
          "output_type": "stream",
          "name": "stdout",
          "text": [
            "Total count of product is:  789\n"
          ]
        }
      ]
    },
    {
      "cell_type": "code",
      "source": [],
      "metadata": {
        "id": "mJCI5CWlbq5m"
      },
      "execution_count": null,
      "outputs": []
    }
  ]
}