{
  "nbformat": 4,
  "nbformat_minor": 0,
  "metadata": {
    "colab": {
      "provenance": [],
      "include_colab_link": true
    },
    "kernelspec": {
      "name": "python3",
      "display_name": "Python 3"
    },
    "language_info": {
      "name": "python"
    }
  },
  "cells": [
    {
      "cell_type": "markdown",
      "metadata": {
        "id": "view-in-github",
        "colab_type": "text"
      },
      "source": [
        "<a href=\"https://colab.research.google.com/github/jolly-io/Python-Lessons/blob/main/Python_Function_InClass_Lab_Jolly_Ogbole.ipynb\" target=\"_parent\"><img src=\"https://colab.research.google.com/assets/colab-badge.svg\" alt=\"Open In Colab\"/></a>"
      ]
    },
    {
      "cell_type": "markdown",
      "source": [
        "### 1. Write a function named show_character. The function should accept two arguments: a reference to a String object and an integer. The integer argument is a character position within the String, with the first character being at position 0. When the method executes, it should display the character at that character position."
      ],
      "metadata": {
        "id": "VddY1d9TIY2E"
      }
    },
    {
      "cell_type": "code",
      "execution_count": null,
      "metadata": {
        "id": "DpX0HdbqIVCk"
      },
      "outputs": [],
      "source": [
        "def show_character(string, pos):\n",
        "    return  string[pos]"
      ]
    },
    {
      "cell_type": "code",
      "source": [
        "show_character(\"Hello\", 3)"
      ],
      "metadata": {
        "id": "CsFHJoNEIy7u",
        "colab": {
          "base_uri": "https://localhost:8080/",
          "height": 35
        },
        "outputId": "bdafefa5-1d6d-47d1-abc6-e97f60956504"
      },
      "execution_count": null,
      "outputs": [
        {
          "output_type": "execute_result",
          "data": {
            "text/plain": [
              "'l'"
            ],
            "application/vnd.google.colaboratory.intrinsic+json": {
              "type": "string"
            }
          },
          "metadata": {},
          "execution_count": 9
        }
      ]
    },
    {
      "cell_type": "markdown",
      "source": [
        "### 2. Define a function and name it `numbers_range` that receives arbitrary list of numerical numbers and returns the range of the numbers.\n",
        "    - For example, passing these numbers \"20, 10, 5, -1, 10\" should return the value of 21."
      ],
      "metadata": {
        "id": "1nbiJWTPLyMh"
      }
    },
    {
      "cell_type": "code",
      "source": [
        "def numbers_range(*args):\n",
        "    return max(args) - min(args)"
      ],
      "metadata": {
        "id": "99kmOuvnLyMh"
      },
      "execution_count": null,
      "outputs": []
    },
    {
      "cell_type": "code",
      "source": [
        "numbers_range(20,10,40,30)"
      ],
      "metadata": {
        "colab": {
          "base_uri": "https://localhost:8080/"
        },
        "id": "d7WgnB4RohHt",
        "outputId": "9476b3b4-f8ef-41ea-f148-037c994f4101"
      },
      "execution_count": null,
      "outputs": [
        {
          "output_type": "execute_result",
          "data": {
            "text/plain": [
              "30"
            ]
          },
          "metadata": {},
          "execution_count": 3
        }
      ]
    },
    {
      "cell_type": "markdown",
      "metadata": {
        "id": "-ORQuASWNK42"
      },
      "source": [
        "### 3) Write a function `triangle_area` that takes two arguments (height, width) of triangle and return the area of the triangle"
      ]
    },
    {
      "cell_type": "code",
      "execution_count": null,
      "metadata": {
        "id": "733lX85iNK42"
      },
      "outputs": [],
      "source": [
        "def triangle_area(base = 1, height = 2):\n",
        "     area = (base * height)/2\n",
        "     print(\"base\", base, \"\\theight:\", height, \"\\tarea:\", area)"
      ]
    },
    {
      "cell_type": "code",
      "source": [
        "triangle_area(2, 3)"
      ],
      "metadata": {
        "colab": {
          "base_uri": "https://localhost:8080/"
        },
        "id": "1UonVFgAnRPy",
        "outputId": "7b40a21d-416b-4580-fad7-3917e1f13840"
      },
      "execution_count": null,
      "outputs": [
        {
          "output_type": "stream",
          "name": "stdout",
          "text": [
            "base 2 \theight: 3 \tarea: 3.0\n"
          ]
        }
      ]
    },
    {
      "cell_type": "markdown",
      "source": [
        "### 4. A pedometer treats walking 1 step as walking 2.5 feet. Define a function named `feet_to_steps` that takes a float as a parameter, representing the number of feet walked, and returns an integer that represents the number of steps walked. Then, write a main program that reads the number of feet walked as an input, calls function feet_to_steps() with the input as an argument, and outputs the number of steps as an integer."
      ],
      "metadata": {
        "id": "I9pLk4UkJ6cc"
      }
    },
    {
      "cell_type": "code",
      "source": [
        "def feet_to_steps(user_feet):\n",
        "     return (int)( user_feet/2.5)"
      ],
      "metadata": {
        "id": "2-nu6gUEJzZh"
      },
      "execution_count": null,
      "outputs": []
    },
    {
      "cell_type": "code",
      "source": [
        "feet_to_steps(10.0)\n",
        "print(f\"you walked: {feet_to_steps(10.0)} steps today\")\n"
      ],
      "metadata": {
        "id": "cOdqNd1oLGIY",
        "colab": {
          "base_uri": "https://localhost:8080/"
        },
        "outputId": "1d86dadf-bf38-4cd2-ae5f-ec177e6c4281"
      },
      "execution_count": null,
      "outputs": [
        {
          "output_type": "stream",
          "name": "stdout",
          "text": [
            "you walked: 4 steps today\n"
          ]
        }
      ]
    }
  ]
}