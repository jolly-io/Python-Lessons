{
  "cells": [
    {
      "cell_type": "markdown",
      "metadata": {
        "id": "view-in-github",
        "colab_type": "text"
      },
      "source": [
        "<a href=\"https://colab.research.google.com/github/jolly-io/Python-projects/blob/main/Sentiment_Analysis.ipynb\" target=\"_parent\"><img src=\"https://colab.research.google.com/assets/colab-badge.svg\" alt=\"Open In Colab\"/></a>"
      ]
    },
    {
      "cell_type": "markdown",
      "source": [
        "## July 12. 2023\n",
        "## NLP - Sentiment Analysis Implementation                 \n",
        "In this assignment, I undertake text preprocessing tasks to analyze sentiments of product reviews and assign sentiment scores for each record in the dataset.\n",
        "\n",
        "##Data\n",
        "The dataset is an aggregate of samsung phone buyer/customer reviews with a count of 20 observations across five variables namely:\n",
        "- Product_Name\n",
        "- Brand_Name\n",
        "- Price\n",
        "- Rating\n",
        "- Reviews\n",
        "- Review_Votes"
      ],
      "metadata": {
        "id": "FOYZLM3E6msK"
      },
      "id": "FOYZLM3E6msK"
    },
    {
      "cell_type": "code",
      "source": [
        "!pip install pyspellchecker\n"
      ],
      "metadata": {
        "colab": {
          "base_uri": "https://localhost:8080/"
        },
        "id": "CYRmKvF_QcOU",
        "outputId": "f86c2ed2-3525-4090-d92d-24d393211ca1"
      },
      "id": "CYRmKvF_QcOU",
      "execution_count": null,
      "outputs": [
        {
          "output_type": "stream",
          "name": "stdout",
          "text": [
            "Collecting pyspellchecker\n",
            "  Downloading pyspellchecker-0.7.2-py3-none-any.whl (3.4 MB)\n",
            "\u001b[?25l     \u001b[90m━━━━━━━━━━━━━━━━━━━━━━━━━━━━━━━━━━━━━━━━\u001b[0m \u001b[32m0.0/3.4 MB\u001b[0m \u001b[31m?\u001b[0m eta \u001b[36m-:--:--\u001b[0m\r\u001b[2K     \u001b[91m━━━━━━━━━━━━━\u001b[0m\u001b[90m╺\u001b[0m\u001b[90m━━━━━━━━━━━━━━━━━━━━━━━━━━\u001b[0m \u001b[32m1.1/3.4 MB\u001b[0m \u001b[31m32.8 MB/s\u001b[0m eta \u001b[36m0:00:01\u001b[0m\r\u001b[2K     \u001b[91m━━━━━━━━━━━━━━━━━━━━━━━━━━━━━━━━━━━━━━━\u001b[0m\u001b[91m╸\u001b[0m \u001b[32m3.4/3.4 MB\u001b[0m \u001b[31m53.7 MB/s\u001b[0m eta \u001b[36m0:00:01\u001b[0m\r\u001b[2K     \u001b[90m━━━━━━━━━━━━━━━━━━━━━━━━━━━━━━━━━━━━━━━━\u001b[0m \u001b[32m3.4/3.4 MB\u001b[0m \u001b[31m36.2 MB/s\u001b[0m eta \u001b[36m0:00:00\u001b[0m\n",
            "\u001b[?25hInstalling collected packages: pyspellchecker\n",
            "Successfully installed pyspellchecker-0.7.2\n"
          ]
        }
      ]
    },
    {
      "cell_type": "code",
      "execution_count": null,
      "id": "df4a97b1-cae4-4fc9-a36c-d05d970ad505",
      "metadata": {
        "colab": {
          "base_uri": "https://localhost:8080/"
        },
        "id": "df4a97b1-cae4-4fc9-a36c-d05d970ad505",
        "outputId": "9f7f727c-dcf9-4c8c-812b-3e1eac738a2d"
      },
      "outputs": [
        {
          "output_type": "stream",
          "name": "stderr",
          "text": [
            "[nltk_data] Downloading package stopwords to /root/nltk_data...\n",
            "[nltk_data]   Unzipping corpora/stopwords.zip.\n",
            "[nltk_data] Downloading package punkt to /root/nltk_data...\n",
            "[nltk_data]   Unzipping tokenizers/punkt.zip.\n",
            "[nltk_data] Downloading package averaged_perceptron_tagger to\n",
            "[nltk_data]     /root/nltk_data...\n",
            "[nltk_data]   Unzipping taggers/averaged_perceptron_tagger.zip.\n",
            "[nltk_data] Downloading package wordnet to /root/nltk_data...\n"
          ]
        }
      ],
      "source": [
        "# First load the required libraries and packages\n",
        "import pandas as pd\n",
        "import nltk\n",
        "from nltk.corpus import stopwords\n",
        "from nltk.tokenize import word_tokenize\n",
        "from nltk.stem import WordNetLemmatizer\n",
        "from nltk.corpus import wordnet\n",
        "nltk.download('stopwords')\n",
        "nltk.download('punkt')\n",
        "nltk.download('averaged_perceptron_tagger')\n",
        "nltk.download('wordnet')\n",
        "\n",
        "import pandas as pd\n",
        "import nltk\n",
        "from nltk.tokenize import word_tokenize\n",
        "from nltk.corpus import stopwords\n",
        "import string"
      ]
    },
    {
      "cell_type": "code",
      "source": [
        "\n",
        "import pandas as pd\n",
        "\n",
        "# Read-in the dataset from an Excel file\n",
        "data = pd.read_excel('PhoneReviews.xlsx')\n",
        "\n",
        "# Confirm the number of records\n",
        "len(data)\n",
        "\n"
      ],
      "metadata": {
        "colab": {
          "base_uri": "https://localhost:8080/"
        },
        "id": "eSGXUP2pGlsT",
        "outputId": "ae1f7b81-8fca-4d9e-9ec8-0ec9ffd0f7a4"
      },
      "id": "eSGXUP2pGlsT",
      "execution_count": null,
      "outputs": [
        {
          "output_type": "execute_result",
          "data": {
            "text/plain": [
              "20"
            ]
          },
          "metadata": {},
          "execution_count": 3
        }
      ]
    },
    {
      "cell_type": "code",
      "source": [
        "data.head(6)"
      ],
      "metadata": {
        "colab": {
          "base_uri": "https://localhost:8080/",
          "height": 237
        },
        "id": "omHxI6AvYTvS",
        "outputId": "f159f288-8965-4c65-8d0f-3385db1f492b"
      },
      "id": "omHxI6AvYTvS",
      "execution_count": null,
      "outputs": [
        {
          "output_type": "execute_result",
          "data": {
            "text/plain": [
              "                                        Product Name Brand Name   Price  \\\n",
              "0  \"CLEAR CLEAN ESN\" Sprint EPIC 4G Galaxy SPH-D7...    Samsung  199.99   \n",
              "1  \"CLEAR CLEAN ESN\" Sprint EPIC 4G Galaxy SPH-D7...    Samsung  199.99   \n",
              "2  \"CLEAR CLEAN ESN\" Sprint EPIC 4G Galaxy SPH-D7...    Samsung  199.99   \n",
              "3  \"CLEAR CLEAN ESN\" Sprint EPIC 4G Galaxy SPH-D7...    Samsung  199.99   \n",
              "4  \"CLEAR CLEAN ESN\" Sprint EPIC 4G Galaxy SPH-D7...    Samsung  199.99   \n",
              "5  \"CLEAR CLEAN ESN\" Sprint EPIC 4G Galaxy SPH-D7...    Samsung  199.99   \n",
              "\n",
              "   Rating                                            Reviews  Review Votes  \n",
              "0       5  I feel so LUCKY to have found this used (phone...             1  \n",
              "1       4  nice phone, nice up grade from my pantach revu...             0  \n",
              "2       5                                       Very pleased             0  \n",
              "3       4  It works good but it goes slow sometimes but i...             0  \n",
              "4       4  Great phone to replace my lost phone. The only...             0  \n",
              "5       1  I already had a phone with problems... I know ...             1  "
            ],
            "text/html": [
              "\n",
              "  <div id=\"df-96902100-6ac4-4f3a-bbd8-dbac6909a4b3\">\n",
              "    <div class=\"colab-df-container\">\n",
              "      <div>\n",
              "<style scoped>\n",
              "    .dataframe tbody tr th:only-of-type {\n",
              "        vertical-align: middle;\n",
              "    }\n",
              "\n",
              "    .dataframe tbody tr th {\n",
              "        vertical-align: top;\n",
              "    }\n",
              "\n",
              "    .dataframe thead th {\n",
              "        text-align: right;\n",
              "    }\n",
              "</style>\n",
              "<table border=\"1\" class=\"dataframe\">\n",
              "  <thead>\n",
              "    <tr style=\"text-align: right;\">\n",
              "      <th></th>\n",
              "      <th>Product Name</th>\n",
              "      <th>Brand Name</th>\n",
              "      <th>Price</th>\n",
              "      <th>Rating</th>\n",
              "      <th>Reviews</th>\n",
              "      <th>Review Votes</th>\n",
              "    </tr>\n",
              "  </thead>\n",
              "  <tbody>\n",
              "    <tr>\n",
              "      <th>0</th>\n",
              "      <td>\"CLEAR CLEAN ESN\" Sprint EPIC 4G Galaxy SPH-D7...</td>\n",
              "      <td>Samsung</td>\n",
              "      <td>199.99</td>\n",
              "      <td>5</td>\n",
              "      <td>I feel so LUCKY to have found this used (phone...</td>\n",
              "      <td>1</td>\n",
              "    </tr>\n",
              "    <tr>\n",
              "      <th>1</th>\n",
              "      <td>\"CLEAR CLEAN ESN\" Sprint EPIC 4G Galaxy SPH-D7...</td>\n",
              "      <td>Samsung</td>\n",
              "      <td>199.99</td>\n",
              "      <td>4</td>\n",
              "      <td>nice phone, nice up grade from my pantach revu...</td>\n",
              "      <td>0</td>\n",
              "    </tr>\n",
              "    <tr>\n",
              "      <th>2</th>\n",
              "      <td>\"CLEAR CLEAN ESN\" Sprint EPIC 4G Galaxy SPH-D7...</td>\n",
              "      <td>Samsung</td>\n",
              "      <td>199.99</td>\n",
              "      <td>5</td>\n",
              "      <td>Very pleased</td>\n",
              "      <td>0</td>\n",
              "    </tr>\n",
              "    <tr>\n",
              "      <th>3</th>\n",
              "      <td>\"CLEAR CLEAN ESN\" Sprint EPIC 4G Galaxy SPH-D7...</td>\n",
              "      <td>Samsung</td>\n",
              "      <td>199.99</td>\n",
              "      <td>4</td>\n",
              "      <td>It works good but it goes slow sometimes but i...</td>\n",
              "      <td>0</td>\n",
              "    </tr>\n",
              "    <tr>\n",
              "      <th>4</th>\n",
              "      <td>\"CLEAR CLEAN ESN\" Sprint EPIC 4G Galaxy SPH-D7...</td>\n",
              "      <td>Samsung</td>\n",
              "      <td>199.99</td>\n",
              "      <td>4</td>\n",
              "      <td>Great phone to replace my lost phone. The only...</td>\n",
              "      <td>0</td>\n",
              "    </tr>\n",
              "    <tr>\n",
              "      <th>5</th>\n",
              "      <td>\"CLEAR CLEAN ESN\" Sprint EPIC 4G Galaxy SPH-D7...</td>\n",
              "      <td>Samsung</td>\n",
              "      <td>199.99</td>\n",
              "      <td>1</td>\n",
              "      <td>I already had a phone with problems... I know ...</td>\n",
              "      <td>1</td>\n",
              "    </tr>\n",
              "  </tbody>\n",
              "</table>\n",
              "</div>\n",
              "      <button class=\"colab-df-convert\" onclick=\"convertToInteractive('df-96902100-6ac4-4f3a-bbd8-dbac6909a4b3')\"\n",
              "              title=\"Convert this dataframe to an interactive table.\"\n",
              "              style=\"display:none;\">\n",
              "        \n",
              "  <svg xmlns=\"http://www.w3.org/2000/svg\" height=\"24px\"viewBox=\"0 0 24 24\"\n",
              "       width=\"24px\">\n",
              "    <path d=\"M0 0h24v24H0V0z\" fill=\"none\"/>\n",
              "    <path d=\"M18.56 5.44l.94 2.06.94-2.06 2.06-.94-2.06-.94-.94-2.06-.94 2.06-2.06.94zm-11 1L8.5 8.5l.94-2.06 2.06-.94-2.06-.94L8.5 2.5l-.94 2.06-2.06.94zm10 10l.94 2.06.94-2.06 2.06-.94-2.06-.94-.94-2.06-.94 2.06-2.06.94z\"/><path d=\"M17.41 7.96l-1.37-1.37c-.4-.4-.92-.59-1.43-.59-.52 0-1.04.2-1.43.59L10.3 9.45l-7.72 7.72c-.78.78-.78 2.05 0 2.83L4 21.41c.39.39.9.59 1.41.59.51 0 1.02-.2 1.41-.59l7.78-7.78 2.81-2.81c.8-.78.8-2.07 0-2.86zM5.41 20L4 18.59l7.72-7.72 1.47 1.35L5.41 20z\"/>\n",
              "  </svg>\n",
              "      </button>\n",
              "      \n",
              "  <style>\n",
              "    .colab-df-container {\n",
              "      display:flex;\n",
              "      flex-wrap:wrap;\n",
              "      gap: 12px;\n",
              "    }\n",
              "\n",
              "    .colab-df-convert {\n",
              "      background-color: #E8F0FE;\n",
              "      border: none;\n",
              "      border-radius: 50%;\n",
              "      cursor: pointer;\n",
              "      display: none;\n",
              "      fill: #1967D2;\n",
              "      height: 32px;\n",
              "      padding: 0 0 0 0;\n",
              "      width: 32px;\n",
              "    }\n",
              "\n",
              "    .colab-df-convert:hover {\n",
              "      background-color: #E2EBFA;\n",
              "      box-shadow: 0px 1px 2px rgba(60, 64, 67, 0.3), 0px 1px 3px 1px rgba(60, 64, 67, 0.15);\n",
              "      fill: #174EA6;\n",
              "    }\n",
              "\n",
              "    [theme=dark] .colab-df-convert {\n",
              "      background-color: #3B4455;\n",
              "      fill: #D2E3FC;\n",
              "    }\n",
              "\n",
              "    [theme=dark] .colab-df-convert:hover {\n",
              "      background-color: #434B5C;\n",
              "      box-shadow: 0px 1px 3px 1px rgba(0, 0, 0, 0.15);\n",
              "      filter: drop-shadow(0px 1px 2px rgba(0, 0, 0, 0.3));\n",
              "      fill: #FFFFFF;\n",
              "    }\n",
              "  </style>\n",
              "\n",
              "      <script>\n",
              "        const buttonEl =\n",
              "          document.querySelector('#df-96902100-6ac4-4f3a-bbd8-dbac6909a4b3 button.colab-df-convert');\n",
              "        buttonEl.style.display =\n",
              "          google.colab.kernel.accessAllowed ? 'block' : 'none';\n",
              "\n",
              "        async function convertToInteractive(key) {\n",
              "          const element = document.querySelector('#df-96902100-6ac4-4f3a-bbd8-dbac6909a4b3');\n",
              "          const dataTable =\n",
              "            await google.colab.kernel.invokeFunction('convertToInteractive',\n",
              "                                                     [key], {});\n",
              "          if (!dataTable) return;\n",
              "\n",
              "          const docLinkHtml = 'Like what you see? Visit the ' +\n",
              "            '<a target=\"_blank\" href=https://colab.research.google.com/notebooks/data_table.ipynb>data table notebook</a>'\n",
              "            + ' to learn more about interactive tables.';\n",
              "          element.innerHTML = '';\n",
              "          dataTable['output_type'] = 'display_data';\n",
              "          await google.colab.output.renderOutput(dataTable, element);\n",
              "          const docLink = document.createElement('div');\n",
              "          docLink.innerHTML = docLinkHtml;\n",
              "          element.appendChild(docLink);\n",
              "        }\n",
              "      </script>\n",
              "    </div>\n",
              "  </div>\n",
              "  "
            ]
          },
          "metadata": {},
          "execution_count": 4
        }
      ]
    },
    {
      "cell_type": "code",
      "source": [
        "# Read in the dataset\n",
        "phonereviews =  pd.read_excel('PhoneReviews.xlsx')\n",
        "\n",
        "# Create a dictionary that maps ratings to sentiments labels\n",
        "sentiment_dict = {\n",
        "    5: 'very happy',\n",
        "    4: 'happy',\n",
        "    3: 'neutral',\n",
        "    2: 'unhappy',\n",
        "    1: 'very unhappy'\n",
        "}\n",
        "\n",
        "# Use the map function to create a new column in the DataFrame based on the 'Rating' column\n",
        "phonereviews['Sentiment'] = phonereviews['Rating'].map(sentiment_dict)\n",
        "\n",
        "# assign new dataframe to the requested variable\n",
        "PhoneReviews_df = phonereviews\n",
        "\n"
      ],
      "metadata": {
        "id": "Ey2Je_qThLce"
      },
      "id": "Ey2Je_qThLce",
      "execution_count": null,
      "outputs": []
    },
    {
      "cell_type": "code",
      "source": [
        "PhoneReviews_df.head(12)"
      ],
      "metadata": {
        "colab": {
          "base_uri": "https://localhost:8080/",
          "height": 425
        },
        "id": "0AGE6ZKLDpLA",
        "outputId": "5df19750-4d0e-4625-8fc4-531703690530"
      },
      "id": "0AGE6ZKLDpLA",
      "execution_count": null,
      "outputs": [
        {
          "output_type": "execute_result",
          "data": {
            "text/plain": [
              "                                         Product Name Brand Name   Price  \\\n",
              "0   \"CLEAR CLEAN ESN\" Sprint EPIC 4G Galaxy SPH-D7...    Samsung  199.99   \n",
              "1   \"CLEAR CLEAN ESN\" Sprint EPIC 4G Galaxy SPH-D7...    Samsung  199.99   \n",
              "2   \"CLEAR CLEAN ESN\" Sprint EPIC 4G Galaxy SPH-D7...    Samsung  199.99   \n",
              "3   \"CLEAR CLEAN ESN\" Sprint EPIC 4G Galaxy SPH-D7...    Samsung  199.99   \n",
              "4   \"CLEAR CLEAN ESN\" Sprint EPIC 4G Galaxy SPH-D7...    Samsung  199.99   \n",
              "5   \"CLEAR CLEAN ESN\" Sprint EPIC 4G Galaxy SPH-D7...    Samsung  199.99   \n",
              "6   \"CLEAR CLEAN ESN\" Sprint EPIC 4G Galaxy SPH-D7...    Samsung  199.99   \n",
              "7   \"CLEAR CLEAN ESN\" Sprint EPIC 4G Galaxy SPH-D7...    Samsung  199.99   \n",
              "8   \"CLEAR CLEAN ESN\" Sprint EPIC 4G Galaxy SPH-D7...    Samsung  199.99   \n",
              "9   \"CLEAR CLEAN ESN\" Sprint EPIC 4G Galaxy SPH-D7...    Samsung  199.99   \n",
              "10  \"CLEAR CLEAN ESN\" Sprint EPIC 4G Galaxy SPH-D7...    Samsung  199.99   \n",
              "11  \"CLEAR CLEAN ESN\" Sprint EPIC 4G Galaxy SPH-D7...    Samsung  199.99   \n",
              "\n",
              "    Rating                                            Reviews  Review Votes  \\\n",
              "0        5  I feel so LUCKY to have found this used (phone...             1   \n",
              "1        4  nice phone, nice up grade from my pantach revu...             0   \n",
              "2        5                                       Very pleased             0   \n",
              "3        4  It works good but it goes slow sometimes but i...             0   \n",
              "4        4  Great phone to replace my lost phone. The only...             0   \n",
              "5        1  I already had a phone with problems... I know ...             1   \n",
              "6        2  The charging port was loose. I got that solder...             0   \n",
              "7        2  Phone looks good but wouldn't stay charged, ha...             0   \n",
              "8        5  I originally was using the Samsung S2 Galaxy f...             0   \n",
              "9        3  It's battery life is great. It's very responsi...             0   \n",
              "10       3  My fiance had this phone previously, but cause...             0   \n",
              "11       5  This is a great product it came after two days...             0   \n",
              "\n",
              "       Sentiment  \n",
              "0     very happy  \n",
              "1          happy  \n",
              "2     very happy  \n",
              "3          happy  \n",
              "4          happy  \n",
              "5   very unhappy  \n",
              "6        unhappy  \n",
              "7        unhappy  \n",
              "8     very happy  \n",
              "9        neutral  \n",
              "10       neutral  \n",
              "11    very happy  "
            ],
            "text/html": [
              "\n",
              "  <div id=\"df-9f16bf04-1f75-4e74-9253-e416b57d436a\">\n",
              "    <div class=\"colab-df-container\">\n",
              "      <div>\n",
              "<style scoped>\n",
              "    .dataframe tbody tr th:only-of-type {\n",
              "        vertical-align: middle;\n",
              "    }\n",
              "\n",
              "    .dataframe tbody tr th {\n",
              "        vertical-align: top;\n",
              "    }\n",
              "\n",
              "    .dataframe thead th {\n",
              "        text-align: right;\n",
              "    }\n",
              "</style>\n",
              "<table border=\"1\" class=\"dataframe\">\n",
              "  <thead>\n",
              "    <tr style=\"text-align: right;\">\n",
              "      <th></th>\n",
              "      <th>Product Name</th>\n",
              "      <th>Brand Name</th>\n",
              "      <th>Price</th>\n",
              "      <th>Rating</th>\n",
              "      <th>Reviews</th>\n",
              "      <th>Review Votes</th>\n",
              "      <th>Sentiment</th>\n",
              "    </tr>\n",
              "  </thead>\n",
              "  <tbody>\n",
              "    <tr>\n",
              "      <th>0</th>\n",
              "      <td>\"CLEAR CLEAN ESN\" Sprint EPIC 4G Galaxy SPH-D7...</td>\n",
              "      <td>Samsung</td>\n",
              "      <td>199.99</td>\n",
              "      <td>5</td>\n",
              "      <td>I feel so LUCKY to have found this used (phone...</td>\n",
              "      <td>1</td>\n",
              "      <td>very happy</td>\n",
              "    </tr>\n",
              "    <tr>\n",
              "      <th>1</th>\n",
              "      <td>\"CLEAR CLEAN ESN\" Sprint EPIC 4G Galaxy SPH-D7...</td>\n",
              "      <td>Samsung</td>\n",
              "      <td>199.99</td>\n",
              "      <td>4</td>\n",
              "      <td>nice phone, nice up grade from my pantach revu...</td>\n",
              "      <td>0</td>\n",
              "      <td>happy</td>\n",
              "    </tr>\n",
              "    <tr>\n",
              "      <th>2</th>\n",
              "      <td>\"CLEAR CLEAN ESN\" Sprint EPIC 4G Galaxy SPH-D7...</td>\n",
              "      <td>Samsung</td>\n",
              "      <td>199.99</td>\n",
              "      <td>5</td>\n",
              "      <td>Very pleased</td>\n",
              "      <td>0</td>\n",
              "      <td>very happy</td>\n",
              "    </tr>\n",
              "    <tr>\n",
              "      <th>3</th>\n",
              "      <td>\"CLEAR CLEAN ESN\" Sprint EPIC 4G Galaxy SPH-D7...</td>\n",
              "      <td>Samsung</td>\n",
              "      <td>199.99</td>\n",
              "      <td>4</td>\n",
              "      <td>It works good but it goes slow sometimes but i...</td>\n",
              "      <td>0</td>\n",
              "      <td>happy</td>\n",
              "    </tr>\n",
              "    <tr>\n",
              "      <th>4</th>\n",
              "      <td>\"CLEAR CLEAN ESN\" Sprint EPIC 4G Galaxy SPH-D7...</td>\n",
              "      <td>Samsung</td>\n",
              "      <td>199.99</td>\n",
              "      <td>4</td>\n",
              "      <td>Great phone to replace my lost phone. The only...</td>\n",
              "      <td>0</td>\n",
              "      <td>happy</td>\n",
              "    </tr>\n",
              "    <tr>\n",
              "      <th>5</th>\n",
              "      <td>\"CLEAR CLEAN ESN\" Sprint EPIC 4G Galaxy SPH-D7...</td>\n",
              "      <td>Samsung</td>\n",
              "      <td>199.99</td>\n",
              "      <td>1</td>\n",
              "      <td>I already had a phone with problems... I know ...</td>\n",
              "      <td>1</td>\n",
              "      <td>very unhappy</td>\n",
              "    </tr>\n",
              "    <tr>\n",
              "      <th>6</th>\n",
              "      <td>\"CLEAR CLEAN ESN\" Sprint EPIC 4G Galaxy SPH-D7...</td>\n",
              "      <td>Samsung</td>\n",
              "      <td>199.99</td>\n",
              "      <td>2</td>\n",
              "      <td>The charging port was loose. I got that solder...</td>\n",
              "      <td>0</td>\n",
              "      <td>unhappy</td>\n",
              "    </tr>\n",
              "    <tr>\n",
              "      <th>7</th>\n",
              "      <td>\"CLEAR CLEAN ESN\" Sprint EPIC 4G Galaxy SPH-D7...</td>\n",
              "      <td>Samsung</td>\n",
              "      <td>199.99</td>\n",
              "      <td>2</td>\n",
              "      <td>Phone looks good but wouldn't stay charged, ha...</td>\n",
              "      <td>0</td>\n",
              "      <td>unhappy</td>\n",
              "    </tr>\n",
              "    <tr>\n",
              "      <th>8</th>\n",
              "      <td>\"CLEAR CLEAN ESN\" Sprint EPIC 4G Galaxy SPH-D7...</td>\n",
              "      <td>Samsung</td>\n",
              "      <td>199.99</td>\n",
              "      <td>5</td>\n",
              "      <td>I originally was using the Samsung S2 Galaxy f...</td>\n",
              "      <td>0</td>\n",
              "      <td>very happy</td>\n",
              "    </tr>\n",
              "    <tr>\n",
              "      <th>9</th>\n",
              "      <td>\"CLEAR CLEAN ESN\" Sprint EPIC 4G Galaxy SPH-D7...</td>\n",
              "      <td>Samsung</td>\n",
              "      <td>199.99</td>\n",
              "      <td>3</td>\n",
              "      <td>It's battery life is great. It's very responsi...</td>\n",
              "      <td>0</td>\n",
              "      <td>neutral</td>\n",
              "    </tr>\n",
              "    <tr>\n",
              "      <th>10</th>\n",
              "      <td>\"CLEAR CLEAN ESN\" Sprint EPIC 4G Galaxy SPH-D7...</td>\n",
              "      <td>Samsung</td>\n",
              "      <td>199.99</td>\n",
              "      <td>3</td>\n",
              "      <td>My fiance had this phone previously, but cause...</td>\n",
              "      <td>0</td>\n",
              "      <td>neutral</td>\n",
              "    </tr>\n",
              "    <tr>\n",
              "      <th>11</th>\n",
              "      <td>\"CLEAR CLEAN ESN\" Sprint EPIC 4G Galaxy SPH-D7...</td>\n",
              "      <td>Samsung</td>\n",
              "      <td>199.99</td>\n",
              "      <td>5</td>\n",
              "      <td>This is a great product it came after two days...</td>\n",
              "      <td>0</td>\n",
              "      <td>very happy</td>\n",
              "    </tr>\n",
              "  </tbody>\n",
              "</table>\n",
              "</div>\n",
              "      <button class=\"colab-df-convert\" onclick=\"convertToInteractive('df-9f16bf04-1f75-4e74-9253-e416b57d436a')\"\n",
              "              title=\"Convert this dataframe to an interactive table.\"\n",
              "              style=\"display:none;\">\n",
              "        \n",
              "  <svg xmlns=\"http://www.w3.org/2000/svg\" height=\"24px\"viewBox=\"0 0 24 24\"\n",
              "       width=\"24px\">\n",
              "    <path d=\"M0 0h24v24H0V0z\" fill=\"none\"/>\n",
              "    <path d=\"M18.56 5.44l.94 2.06.94-2.06 2.06-.94-2.06-.94-.94-2.06-.94 2.06-2.06.94zm-11 1L8.5 8.5l.94-2.06 2.06-.94-2.06-.94L8.5 2.5l-.94 2.06-2.06.94zm10 10l.94 2.06.94-2.06 2.06-.94-2.06-.94-.94-2.06-.94 2.06-2.06.94z\"/><path d=\"M17.41 7.96l-1.37-1.37c-.4-.4-.92-.59-1.43-.59-.52 0-1.04.2-1.43.59L10.3 9.45l-7.72 7.72c-.78.78-.78 2.05 0 2.83L4 21.41c.39.39.9.59 1.41.59.51 0 1.02-.2 1.41-.59l7.78-7.78 2.81-2.81c.8-.78.8-2.07 0-2.86zM5.41 20L4 18.59l7.72-7.72 1.47 1.35L5.41 20z\"/>\n",
              "  </svg>\n",
              "      </button>\n",
              "      \n",
              "  <style>\n",
              "    .colab-df-container {\n",
              "      display:flex;\n",
              "      flex-wrap:wrap;\n",
              "      gap: 12px;\n",
              "    }\n",
              "\n",
              "    .colab-df-convert {\n",
              "      background-color: #E8F0FE;\n",
              "      border: none;\n",
              "      border-radius: 50%;\n",
              "      cursor: pointer;\n",
              "      display: none;\n",
              "      fill: #1967D2;\n",
              "      height: 32px;\n",
              "      padding: 0 0 0 0;\n",
              "      width: 32px;\n",
              "    }\n",
              "\n",
              "    .colab-df-convert:hover {\n",
              "      background-color: #E2EBFA;\n",
              "      box-shadow: 0px 1px 2px rgba(60, 64, 67, 0.3), 0px 1px 3px 1px rgba(60, 64, 67, 0.15);\n",
              "      fill: #174EA6;\n",
              "    }\n",
              "\n",
              "    [theme=dark] .colab-df-convert {\n",
              "      background-color: #3B4455;\n",
              "      fill: #D2E3FC;\n",
              "    }\n",
              "\n",
              "    [theme=dark] .colab-df-convert:hover {\n",
              "      background-color: #434B5C;\n",
              "      box-shadow: 0px 1px 3px 1px rgba(0, 0, 0, 0.15);\n",
              "      filter: drop-shadow(0px 1px 2px rgba(0, 0, 0, 0.3));\n",
              "      fill: #FFFFFF;\n",
              "    }\n",
              "  </style>\n",
              "\n",
              "      <script>\n",
              "        const buttonEl =\n",
              "          document.querySelector('#df-9f16bf04-1f75-4e74-9253-e416b57d436a button.colab-df-convert');\n",
              "        buttonEl.style.display =\n",
              "          google.colab.kernel.accessAllowed ? 'block' : 'none';\n",
              "\n",
              "        async function convertToInteractive(key) {\n",
              "          const element = document.querySelector('#df-9f16bf04-1f75-4e74-9253-e416b57d436a');\n",
              "          const dataTable =\n",
              "            await google.colab.kernel.invokeFunction('convertToInteractive',\n",
              "                                                     [key], {});\n",
              "          if (!dataTable) return;\n",
              "\n",
              "          const docLinkHtml = 'Like what you see? Visit the ' +\n",
              "            '<a target=\"_blank\" href=https://colab.research.google.com/notebooks/data_table.ipynb>data table notebook</a>'\n",
              "            + ' to learn more about interactive tables.';\n",
              "          element.innerHTML = '';\n",
              "          dataTable['output_type'] = 'display_data';\n",
              "          await google.colab.output.renderOutput(dataTable, element);\n",
              "          const docLink = document.createElement('div');\n",
              "          docLink.innerHTML = docLinkHtml;\n",
              "          element.appendChild(docLink);\n",
              "        }\n",
              "      </script>\n",
              "    </div>\n",
              "  </div>\n",
              "  "
            ]
          },
          "metadata": {},
          "execution_count": 6
        }
      ]
    },
    {
      "cell_type": "code",
      "source": [
        "# Extract the Reviews column as the text corpus, convert to string type for consistency, put in a list format\n",
        "corpus = PhoneReviews_df['Reviews'].astype(str).tolist()\n",
        "corpus[:5]"
      ],
      "metadata": {
        "id": "2v_3hIz2vImy",
        "colab": {
          "base_uri": "https://localhost:8080/"
        },
        "outputId": "e4b4bcdd-47a5-4522-a747-5cd86024d66e"
      },
      "id": "2v_3hIz2vImy",
      "execution_count": null,
      "outputs": [
        {
          "output_type": "execute_result",
          "data": {
            "text/plain": [
              "[\"I feel so LUCKY to have found this used (phone to us & not used hard at all), phone on line from someone who upgraded and sold this one. My Son liked his old one that finally fell apart after 2.5+ years and didn't want an upgrade!! Thank you Seller, we really appreciate it & your honesty re: said used phone.I recommend this seller very highly & would but from them again!!\",\n",
              " 'nice phone, nice up grade from my pantach revue. Very clean set up and easy set up. never had an android phone but they are fantastic to say the least. perfect size for surfing and social media. great phone samsung',\n",
              " 'Very pleased',\n",
              " 'It works good but it goes slow sometimes but its a very good phone I love it',\n",
              " 'Great phone to replace my lost phone. The only thing is the volume up button does not work, but I can still go into settings to adjust. Other than that, it does the job until I am eligible to upgrade my phone again.Thaanks!']"
            ]
          },
          "metadata": {},
          "execution_count": 10
        }
      ]
    },
    {
      "cell_type": "markdown",
      "source": [
        "## Cleaning the text corpus\n",
        "\n",
        "Below I implement the pretokenization phase which involves cleaning the text corpus ( lower casing, white space and punctuation removal etc.)\n"
      ],
      "metadata": {
        "id": "PI9LxvjfHJTK"
      },
      "id": "PI9LxvjfHJTK"
    },
    {
      "cell_type": "code",
      "source": [
        "import re\n",
        "from nltk.corpus import stopwords\n",
        "from nltk.tokenize import word_tokenize\n",
        "from spellchecker import SpellChecker\n",
        "\n",
        "\n",
        "# Function to clean the text corpus\n",
        "def clean_text_corpus(corpus):\n",
        "    cleaned_corpus = []\n",
        "    spell = SpellChecker()\n",
        "    stop_words = set(stopwords.words('english'))\n",
        "\n",
        "    for text in corpus:\n",
        "        # Remove HTML tags\n",
        "        text = re.sub('<.*?>', '', text)\n",
        "\n",
        "        # Convert to lowercase\n",
        "        text = text.lower()\n",
        "\n",
        "        # Remove URLs\n",
        "        text = re.sub(r'http\\S+|www\\S+', '', text)\n",
        "\n",
        "        # Remove special characters, punctuations, and numbers\n",
        "        text = re.sub(r'[^a-zA-Z\\s]', '', text)\n",
        "\n",
        "        # Tokenize the text\n",
        "        word_tokens = word_tokenize(text)\n",
        "\n",
        "        # Remove stopwords\n",
        "        text = [word for word in word_tokens if not word in stop_words]\n",
        "\n",
        "        # Correct spelling\n",
        "        text = [spell.correction(word) if spell.correction(word) is not None else word for word in text]\n",
        "\n",
        "        # Join the words back into one string\n",
        "        text = ' '.join(text)\n",
        "\n",
        "        # Remove abbreviations\n",
        "        # create your own dictionary of abbreviations and their replacements\n",
        "        abbreviations = {\n",
        "            \"Dr.\": \"Doctor\",\n",
        "            \"Mr.\": \"Mister\",\n",
        "            \"i'm\": \"i am\",\n",
        "            \"can't\" : \"cannot\",\n",
        "            # Add more abbreviations as needed\n",
        "        }\n",
        "        for abbreviation, replacement in abbreviations.items():\n",
        "            text = text.replace(abbreviation, replacement)\n",
        "\n",
        "        # Remove extra whitespace and newlines\n",
        "        text = re.sub('\\s+', ' ', text).strip()\n",
        "\n",
        "        cleaned_corpus.append(text)\n",
        "\n",
        "    return cleaned_corpus\n",
        "\n",
        "# Call the cleaning function on the corpus\n",
        "cleaned_corpus = clean_text_corpus(corpus)\n",
        "\n",
        "# Print the cleaned corpus\n",
        "print(cleaned_corpus)\n"
      ],
      "metadata": {
        "colab": {
          "base_uri": "https://localhost:8080/"
        },
        "id": "Y0iHFiXjah4l",
        "outputId": "fc2d8261-2cf9-4878-f71f-b86760bf3bef"
      },
      "id": "Y0iHFiXjah4l",
      "execution_count": null,
      "outputs": [
        {
          "output_type": "stream",
          "name": "stdout",
          "text": [
            "[\"feel lucky found used phone us used hard phone line someone upgraded sold one son liked old one finally fell apart years didn't want upgrade thank seller really appreciate honesty said used phone recommend seller highly would\", 'nice phone nice grade patch revue clean set easy set never android phone fantastic say least perfect size surfing social media great phone sassing', 'pleased', 'works good goes slow sometimes good phone love', 'great phone replace lost phone thing volume button work still go settings adjust job eligible upgrade phone againthaanks', 'already phone problems know stated used dang state charge wish would read comments would purchased item cracked side damaged goods trying charge another way work requesting money back get money backsigned unhappy customer', 'charging port loose got soldered needed new battery well later including cost purchase usable phone phone sold state', 'phone looks good wouldnt stay charged buy new battery still couldnt stay charged longs trashed money lost never buy person', 'originally using sassing galaxy sprint wanted return back sassing epic i sprint really missed keyboard really liked smaller compact size phone still needed basic functions smart phone ie checking email getting directions text messaging phone powerful newer cell phones aware applications install slower phone runs likely freeze time time camera works great video great well even web browsing decent gives need also notice battery life lasts little bit longer charging phone much quicker galaxy', 'battery life great responsive touch issue sometimes screen goes black press top button several times get screen illuminate', 'fiance phone previously caused many problems course decided browse amazon replacement til contract far good', 'great product came two days ordering one little blemish debut cares long phone fully functional recommend product anyone reading', 'guys best little situation item quickly fixed issue pleased definitely buying another phone need one', 'im really disappointed phone service phone went week ago instead handling issue first surfaced ive told im stick phone im dollars service im using still havent received mailing label return item first purchase amazon im rushing use smartphones business anytime soon thought getting deal seems like im one lucked', 'ordered phone replacement model contract expires get new one seller confirmation said delivery could take days seller sent phone within hours receiving order phone next day phone looks better described able transfer data old one new one problems highly recommend seller', 'phone loved working got phone one thing so card slot open try access file management even show computer card fine able open another phone trying trouble shoot', 'able get phone previously ownedwith keyboard touch screen best phone love still clean device service provider well worth', 'brought phone replacement daughter hard cell phones must say great purchase phone work wonderful thank', \"love phone everything need works great purchased four phones seller shipped amazons warehouse problem phone didn't come micro so card couldnt use camera got card problems getting activated sprint\", 'unfortunately sprint could activate phone due blocking issue phone matter handled well quickly satisfied service']\n"
          ]
        }
      ]
    },
    {
      "cell_type": "markdown",
      "source": [
        "## Building a Normalizer to Tokenize:"
      ],
      "metadata": {
        "id": "-vP7JDiahvmN"
      },
      "id": "-vP7JDiahvmN"
    },
    {
      "cell_type": "code",
      "source": [
        "import pandas as pd\n",
        "from nltk.tokenize import word_tokenize\n",
        "\n",
        "def normalize(corpus):\n",
        "    # Tokenize each document in the corpus\n",
        "    tokenized_corpus = [word_tokenize(doc) for doc in corpus]\n",
        "    return tokenized_corpus\n",
        "\n",
        "# apply function to cleaned corpus\n",
        "normalized_corpus = normalize(cleaned_corpus)\n",
        "\n",
        "# Create a dataframe\n",
        "normalized_corpus_df = pd.DataFrame({'normalized_document': normalized_corpus})\n",
        "\n",
        "# Save the dataframe to a csv file\n",
        "normalized_corpus_df.to_csv('PhoneReviews_normal.csv', index=False)\n"
      ],
      "metadata": {
        "id": "m4oTsSxShvTa"
      },
      "id": "m4oTsSxShvTa",
      "execution_count": null,
      "outputs": []
    },
    {
      "cell_type": "code",
      "source": [
        "print(normalized_corpus_df)"
      ],
      "metadata": {
        "colab": {
          "base_uri": "https://localhost:8080/"
        },
        "id": "63OYPLoVhvF4",
        "outputId": "7e35564a-ae8c-4ef6-a454-1606c8db4c58"
      },
      "id": "63OYPLoVhvF4",
      "execution_count": null,
      "outputs": [
        {
          "output_type": "stream",
          "name": "stdout",
          "text": [
            "                                  normalized_document\n",
            "0   [feel, lucky, found, used, phone, us, used, ha...\n",
            "1   [nice, phone, nice, grade, patch, revue, clean...\n",
            "2                                           [pleased]\n",
            "3   [works, good, goes, slow, sometimes, good, pho...\n",
            "4   [great, phone, replace, lost, phone, thing, vo...\n",
            "5   [already, phone, problems, know, stated, used,...\n",
            "6   [charging, port, loose, got, soldered, needed,...\n",
            "7   [phone, looks, good, wouldnt, stay, charged, b...\n",
            "8   [originally, using, sassing, galaxy, sprint, w...\n",
            "9   [battery, life, great, responsive, touch, issu...\n",
            "10  [fiance, phone, previously, caused, many, prob...\n",
            "11  [great, product, came, two, days, ordering, on...\n",
            "12  [guys, best, little, situation, item, quickly,...\n",
            "13  [im, really, disappointed, phone, service, pho...\n",
            "14  [ordered, phone, replacement, model, contract,...\n",
            "15  [phone, loved, working, got, phone, one, thing...\n",
            "16  [able, get, phone, previously, ownedwith, keyb...\n",
            "17  [brought, phone, replacement, daughter, hard, ...\n",
            "18  [love, phone, everything, need, works, great, ...\n",
            "19  [unfortunately, sprint, could, activate, phone...\n"
          ]
        }
      ]
    },
    {
      "cell_type": "markdown",
      "source": [
        "## Using VaderSentiment library\n",
        "\n",
        "Below I apply the vaderSentiment library to get the sentiment scores for each record"
      ],
      "metadata": {
        "id": "0LIsM-1znbzm"
      },
      "id": "0LIsM-1znbzm"
    },
    {
      "cell_type": "code",
      "source": [
        "pip install vaderSentiment"
      ],
      "metadata": {
        "colab": {
          "base_uri": "https://localhost:8080/"
        },
        "id": "O_sweOOpnMxC",
        "outputId": "e3851b8e-6267-4811-8046-ed30cf75b27c"
      },
      "id": "O_sweOOpnMxC",
      "execution_count": null,
      "outputs": [
        {
          "output_type": "stream",
          "name": "stdout",
          "text": [
            "Requirement already satisfied: vaderSentiment in /usr/local/lib/python3.10/dist-packages (3.3.2)\n",
            "Requirement already satisfied: requests in /usr/local/lib/python3.10/dist-packages (from vaderSentiment) (2.27.1)\n",
            "Requirement already satisfied: urllib3<1.27,>=1.21.1 in /usr/local/lib/python3.10/dist-packages (from requests->vaderSentiment) (1.26.16)\n",
            "Requirement already satisfied: certifi>=2017.4.17 in /usr/local/lib/python3.10/dist-packages (from requests->vaderSentiment) (2023.5.7)\n",
            "Requirement already satisfied: charset-normalizer~=2.0.0 in /usr/local/lib/python3.10/dist-packages (from requests->vaderSentiment) (2.0.12)\n",
            "Requirement already satisfied: idna<4,>=2.5 in /usr/local/lib/python3.10/dist-packages (from requests->vaderSentiment) (3.4)\n"
          ]
        }
      ]
    },
    {
      "cell_type": "code",
      "source": [
        "from vaderSentiment.vaderSentiment import SentimentIntensityAnalyzer\n",
        "\n",
        "# Initialize the sentiment intensity analyzer\n",
        "analyzer = SentimentIntensityAnalyzer()\n",
        "\n",
        "# Function to get the sentiment\n",
        "def get_sentiment(text):\n",
        "    # Analyze the sentiment of the text\n",
        "    sentiment_dict = analyzer.polarity_scores(text)\n",
        "    # Return the compound score\n",
        "    return sentiment_dict['compound']\n",
        "\n",
        "# Apply the function to the normalized_document column and create a new column sentiment\n",
        "normalized_corpus_df['vader_sentiment_score'] = normalized_corpus_df['normalized_document'].apply(lambda x: ' '.join(x)).apply(get_sentiment)\n",
        "\n",
        "# Save the dataframe to a csv file\n",
        "normalized_corpus_df.to_csv('Sentiments.csv', index=False)\n"
      ],
      "metadata": {
        "id": "WJp_H_WenMrW"
      },
      "id": "WJp_H_WenMrW",
      "execution_count": null,
      "outputs": []
    },
    {
      "cell_type": "code",
      "source": [
        "print(normalized_corpus_df)"
      ],
      "metadata": {
        "colab": {
          "base_uri": "https://localhost:8080/"
        },
        "id": "X3ZlOom-nMmw",
        "outputId": "bb46cdcc-71c5-4142-8c61-9f4e26f5d0a3"
      },
      "id": "X3ZlOom-nMmw",
      "execution_count": null,
      "outputs": [
        {
          "output_type": "stream",
          "name": "stdout",
          "text": [
            "                                  normalized_document  vader_sentiment_score\n",
            "0   [feel, lucky, found, used, phone, us, used, ha...                 0.8966\n",
            "1   [nice, phone, nice, grade, patch, revue, clean...                 0.8548\n",
            "2                                           [pleased]                 0.4404\n",
            "3   [works, good, goes, slow, sometimes, good, pho...                 0.8750\n",
            "4   [great, phone, replace, lost, phone, thing, vo...                 0.4215\n",
            "5   [already, phone, problems, know, stated, used,...                -0.6908\n",
            "6   [charging, port, loose, got, soldered, needed,...                -0.0516\n",
            "7   [phone, looks, good, wouldnt, stay, charged, b...                 0.4184\n",
            "8   [originally, using, sassing, galaxy, sprint, w...                 0.9485\n",
            "9   [battery, life, great, responsive, touch, issu...                 0.8126\n",
            "10  [fiance, phone, previously, caused, many, prob...                 0.2263\n",
            "11  [great, product, came, two, days, ordering, on...                 0.8630\n",
            "12  [guys, best, little, situation, item, quickly,...                 0.8689\n",
            "13  [im, really, disappointed, phone, service, pho...                 0.4033\n",
            "14  [ordered, phone, replacement, model, contract,...                 0.4576\n",
            "15  [phone, loved, working, got, phone, one, thing...                 0.1531\n",
            "16  [able, get, phone, previously, ownedwith, keyb...                 0.9337\n",
            "17  [brought, phone, replacement, daughter, hard, ...                 0.8720\n",
            "18  [love, phone, everything, need, works, great, ...                 0.5859\n",
            "19  [unfortunately, sprint, could, activate, phone...                 0.0000\n"
          ]
        }
      ]
    },
    {
      "cell_type": "code",
      "source": [],
      "metadata": {
        "id": "BSNk1i0QnZhb"
      },
      "id": "BSNk1i0QnZhb",
      "execution_count": null,
      "outputs": []
    }
  ],
  "metadata": {
    "kernelspec": {
      "display_name": "Python 3 (ipykernel)",
      "language": "python",
      "name": "python3"
    },
    "language_info": {
      "codemirror_mode": {
        "name": "ipython",
        "version": 3
      },
      "file_extension": ".py",
      "mimetype": "text/x-python",
      "name": "python",
      "nbconvert_exporter": "python",
      "pygments_lexer": "ipython3",
      "version": "3.9.12"
    },
    "colab": {
      "provenance": [],
      "include_colab_link": true
    }
  },
  "nbformat": 4,
  "nbformat_minor": 5
}